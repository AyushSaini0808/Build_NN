{
  "nbformat": 4,
  "nbformat_minor": 0,
  "metadata": {
    "colab": {
      "provenance": [],
      "authorship_tag": "ABX9TyNBFSs03DjsPf7oQrJCkbz5",
      "include_colab_link": true
    },
    "kernelspec": {
      "name": "python3",
      "display_name": "Python 3"
    },
    "language_info": {
      "name": "python"
    }
  },
  "cells": [
    {
      "cell_type": "markdown",
      "metadata": {
        "id": "view-in-github",
        "colab_type": "text"
      },
      "source": [
        "<a href=\"https://colab.research.google.com/github/AyushSaini0808/Build_NN/blob/main/Build_NN_from_scratch.ipynb\" target=\"_parent\"><img src=\"https://colab.research.google.com/assets/colab-badge.svg\" alt=\"Open In Colab\"/></a>"
      ]
    },
    {
      "cell_type": "markdown",
      "source": [
        "***BUILDING A NEURAL NETWORK FROM SCRATCH***\n",
        "\n",
        "---\n",
        "\n"
      ],
      "metadata": {
        "id": "tn-sPd0C16wu"
      }
    },
    {
      "cell_type": "markdown",
      "source": [
        "This notebook focuses on building a neural network entirely from the scratch without using tensorflow or keras for training the dataset but rather using numpy and basic algebra"
      ],
      "metadata": {
        "id": "JVMIMNk81mNZ"
      }
    },
    {
      "cell_type": "code",
      "execution_count": null,
      "metadata": {
        "id": "jvZCxjI21h1H"
      },
      "outputs": [],
      "source": [
        "# Importing necessary packages\n",
        "import numpy as np\n",
        "import pandas as pd\n",
        "import matplotlib.pyplot as plt\n",
        "%matplotlib inline"
      ]
    },
    {
      "cell_type": "code",
      "source": [
        "training_data = pd.read_csv(\"/content/train.csv\")\n",
        "train_data = np.array(training_data)\n",
        "m, n = train_data.shape\n",
        "np.random.shuffle(train_data)  # shuffle before splitting into dev and training sets\n",
        "\n",
        "dev_data = train_data[0:1000].T\n",
        "Y_dev = dev_data[0]\n",
        "X_dev = dev_data[1:n]\n",
        "X_dev = X_dev / 255.\n",
        "\n",
        "train_data = train_data[1000:m].T\n",
        "Y_train = train_data[0]\n",
        "X_train = train_data[1:n]\n",
        "X_train = X_train / 255.\n",
        "_, m_train = X_train.shape\n",
        "print(Y_train)\n",
        "print(X_train[0].shape)"
      ],
      "metadata": {
        "colab": {
          "base_uri": "https://localhost:8080/"
        },
        "id": "XBQIMa9uV8wr",
        "outputId": "000cb4f6-e3f9-4dea-ae2f-c4b5c5fc759b"
      },
      "execution_count": null,
      "outputs": [
        {
          "output_type": "stream",
          "name": "stdout",
          "text": [
            "[0 0 0 ... 7 2 2]\n",
            "(41000,)\n"
          ]
        }
      ]
    },
    {
      "cell_type": "code",
      "source": [
        "print(Y_train)"
      ],
      "metadata": {
        "colab": {
          "base_uri": "https://localhost:8080/"
        },
        "id": "WoE-cHZU-QJ3",
        "outputId": "c0b7b19a-6123-413c-a9bd-3f509aa5594d"
      },
      "execution_count": null,
      "outputs": [
        {
          "output_type": "stream",
          "name": "stdout",
          "text": [
            "[0 0 0 ... 7 2 2]\n"
          ]
        }
      ]
    },
    {
      "cell_type": "code",
      "source": [
        "print(X_train[0].shape)"
      ],
      "metadata": {
        "colab": {
          "base_uri": "https://localhost:8080/"
        },
        "id": "pvlvFjvh3bun",
        "outputId": "b2304bd2-0eb5-4829-a459-2e90055a56ce"
      },
      "execution_count": null,
      "outputs": [
        {
          "output_type": "stream",
          "name": "stdout",
          "text": [
            "(41000,)\n"
          ]
        }
      ]
    },
    {
      "cell_type": "code",
      "source": [
        "def init_params():\n",
        "    W1 = np.random.rand(10, 784) - 0.5\n",
        "    b1 = np.random.rand(10, 1) - 0.5\n",
        "    W2 = np.random.rand(10, 10) - 0.5\n",
        "    b2 = np.random.rand(10, 1) - 0.5\n",
        "    return W1, b1, W2, b2\n",
        "\n",
        "def ReLU(Z):\n",
        "    return np.maximum(Z, 0)\n",
        "\n",
        "def softmax(Z):\n",
        "    A = np.exp(Z) / sum(np.exp(Z))\n",
        "    return A\n",
        "\n",
        "\n",
        "def forward_prop(W1, b1, W2, b2, X):\n",
        "    Z1 = W1.dot(X) + b1\n",
        "    A1 = ReLU(Z1)\n",
        "    Z2 = W2.dot(A1) + b2\n",
        "    A2 = softmax(Z2)\n",
        "    return Z1, A1, Z2, A2\n",
        "\n",
        "def ReLU_deriv(Z):\n",
        "    return Z > 0\n",
        "\n",
        "def one_hot(Y):\n",
        "    one_hot_Y = np.zeros((int(Y.size), int(Y.max() + 1)))\n",
        "    one_hot_Y[np.arange(Y.size), Y.astype(int)] = 1 # Cast Y to integers when using as indices\n",
        "    one_hot_Y = one_hot_Y.T\n",
        "    return one_hot_Y\n",
        "\n",
        "def backward_prop(Z1, A1, Z2, A2, W1, W2, X, Y):\n",
        "    one_hot_Y = one_hot(Y)\n",
        "    dZ2 = A2 - one_hot_Y\n",
        "    dW2 = 1 / m * dZ2.dot(A1.T)\n",
        "    db2 = 1 / m * np.sum(dZ2)\n",
        "    dZ1 = W2.T.dot(dZ2) * ReLU_deriv(Z1)\n",
        "    dW1 = 1 / m * dZ1.dot(X.T)\n",
        "    db1 = 1 / m * np.sum(dZ1)\n",
        "    return dW1, db1, dW2, db2\n",
        "\n",
        "def update_params(W1, b1, W2, b2, dW1, db1, dW2, db2, alpha):\n",
        "    W1 = W1 - alpha * dW1\n",
        "    b1 = b1 - alpha * db1\n",
        "    W2 = W2 - alpha * dW2\n",
        "    b2 = b2 - alpha * db2\n",
        "    return W1, b1, W2, b2\n"
      ],
      "metadata": {
        "id": "g33rsUv35ck2"
      },
      "execution_count": null,
      "outputs": []
    },
    {
      "cell_type": "code",
      "source": [
        "def get_predictions(A2):\n",
        "    return np.argmax(A2, 0)\n",
        "\n",
        "def get_accuracy(predictions, Y):\n",
        "    print(predictions, Y)\n",
        "    return np.sum(predictions == Y) / Y.size\n",
        "\n",
        "def gradient_descent(X, Y, alpha, iterations):\n",
        "    W1, b1, W2, b2 = init_params()\n",
        "    for i in range(iterations):\n",
        "        Z1, A1, Z2, A2 = forward_prop(W1, b1, W2, b2, X)\n",
        "        dW1, db1, dW2, db2 = backward_prop(Z1, A1, Z2, A2, W1, W2, X, Y)\n",
        "        W1, b1, W2, b2 = update_params(W1, b1, W2, b2, dW1, db1, dW2, db2, alpha)\n",
        "        if i % 10 == 0:\n",
        "            print(\"Iteration: \", i)\n",
        "            predictions = get_predictions(A2)\n",
        "            print(get_accuracy(predictions, Y))\n",
        "    return W1, b1, W2, b2"
      ],
      "metadata": {
        "id": "4JuJ_tSbJxc3"
      },
      "execution_count": null,
      "outputs": []
    },
    {
      "cell_type": "code",
      "source": [
        "W1,b1,W2,b2 = gradient_descent(X_train,Y_train,0.25,500)"
      ],
      "metadata": {
        "colab": {
          "base_uri": "https://localhost:8080/"
        },
        "id": "zYhU_8i8MBmy",
        "outputId": "c37ce35b-fc9f-4f89-e689-7ff8b27b3961"
      },
      "execution_count": null,
      "outputs": [
        {
          "output_type": "stream",
          "name": "stdout",
          "text": [
            "Iteration:  0\n",
            "[7 0 7 ... 7 1 7] [0 0 0 ... 7 2 2]\n",
            "0.114\n",
            "Iteration:  10\n",
            "[0 0 0 ... 7 1 7] [0 0 0 ... 7 2 2]\n",
            "0.31034146341463414\n",
            "Iteration:  20\n",
            "[0 0 0 ... 7 1 2] [0 0 0 ... 7 2 2]\n",
            "0.45253658536585367\n",
            "Iteration:  30\n",
            "[0 0 0 ... 7 1 2] [0 0 0 ... 7 2 2]\n",
            "0.559\n",
            "Iteration:  40\n",
            "[0 0 0 ... 7 1 2] [0 0 0 ... 7 2 2]\n",
            "0.6194390243902439\n",
            "Iteration:  50\n",
            "[0 0 0 ... 7 1 2] [0 0 0 ... 7 2 2]\n",
            "0.66\n",
            "Iteration:  60\n",
            "[0 0 0 ... 7 1 2] [0 0 0 ... 7 2 2]\n",
            "0.6907073170731707\n",
            "Iteration:  70\n",
            "[0 0 0 ... 7 1 2] [0 0 0 ... 7 2 2]\n",
            "0.7158536585365853\n",
            "Iteration:  80\n",
            "[0 0 0 ... 7 1 2] [0 0 0 ... 7 2 2]\n",
            "0.7060975609756097\n",
            "Iteration:  90\n",
            "[0 0 0 ... 7 1 2] [0 0 0 ... 7 2 2]\n",
            "0.7344390243902439\n",
            "Iteration:  100\n",
            "[0 0 0 ... 7 1 2] [0 0 0 ... 7 2 2]\n",
            "0.7545121951219512\n",
            "Iteration:  110\n",
            "[0 0 0 ... 7 1 2] [0 0 0 ... 7 2 2]\n",
            "0.7690731707317073\n",
            "Iteration:  120\n",
            "[0 0 0 ... 7 1 2] [0 0 0 ... 7 2 2]\n",
            "0.7814146341463415\n",
            "Iteration:  130\n",
            "[0 0 0 ... 7 1 2] [0 0 0 ... 7 2 2]\n",
            "0.7907804878048781\n",
            "Iteration:  140\n",
            "[0 0 0 ... 7 1 2] [0 0 0 ... 7 2 2]\n",
            "0.7991951219512196\n",
            "Iteration:  150\n",
            "[0 0 0 ... 7 1 2] [0 0 0 ... 7 2 2]\n",
            "0.8075609756097561\n",
            "Iteration:  160\n",
            "[0 0 0 ... 7 1 2] [0 0 0 ... 7 2 2]\n",
            "0.8147317073170731\n",
            "Iteration:  170\n",
            "[0 0 0 ... 7 2 2] [0 0 0 ... 7 2 2]\n",
            "0.8219512195121951\n",
            "Iteration:  180\n",
            "[0 0 0 ... 7 2 2] [0 0 0 ... 7 2 2]\n",
            "0.8281463414634146\n",
            "Iteration:  190\n",
            "[0 0 0 ... 7 2 2] [0 0 0 ... 7 2 2]\n",
            "0.8333414634146341\n",
            "Iteration:  200\n",
            "[0 0 0 ... 7 2 2] [0 0 0 ... 7 2 2]\n",
            "0.8384390243902439\n",
            "Iteration:  210\n",
            "[0 0 0 ... 7 2 2] [0 0 0 ... 7 2 2]\n",
            "0.8420731707317073\n",
            "Iteration:  220\n",
            "[0 0 0 ... 7 2 2] [0 0 0 ... 7 2 2]\n",
            "0.8442682926829268\n",
            "Iteration:  230\n",
            "[0 0 0 ... 7 2 2] [0 0 0 ... 7 2 2]\n",
            "0.8464878048780488\n",
            "Iteration:  240\n",
            "[0 0 0 ... 7 2 2] [0 0 0 ... 7 2 2]\n",
            "0.851\n",
            "Iteration:  250\n",
            "[0 0 0 ... 7 2 2] [0 0 0 ... 7 2 2]\n",
            "0.8547560975609756\n",
            "Iteration:  260\n",
            "[0 0 0 ... 7 2 2] [0 0 0 ... 7 2 2]\n",
            "0.8580975609756097\n",
            "Iteration:  270\n",
            "[0 0 0 ... 7 2 2] [0 0 0 ... 7 2 2]\n",
            "0.8613414634146341\n",
            "Iteration:  280\n",
            "[0 0 0 ... 7 2 2] [0 0 0 ... 7 2 2]\n",
            "0.863390243902439\n",
            "Iteration:  290\n",
            "[0 0 0 ... 7 2 2] [0 0 0 ... 7 2 2]\n",
            "0.8650243902439024\n",
            "Iteration:  300\n",
            "[0 0 0 ... 7 2 2] [0 0 0 ... 7 2 2]\n",
            "0.8668780487804878\n",
            "Iteration:  310\n",
            "[0 0 0 ... 7 2 2] [0 0 0 ... 7 2 2]\n",
            "0.8684390243902439\n",
            "Iteration:  320\n",
            "[0 0 0 ... 7 2 2] [0 0 0 ... 7 2 2]\n",
            "0.8697317073170732\n",
            "Iteration:  330\n",
            "[0 0 0 ... 7 2 2] [0 0 0 ... 7 2 2]\n",
            "0.8713658536585366\n",
            "Iteration:  340\n",
            "[0 0 0 ... 7 2 2] [0 0 0 ... 7 2 2]\n",
            "0.8726829268292683\n",
            "Iteration:  350\n",
            "[0 0 0 ... 7 2 2] [0 0 0 ... 7 2 2]\n",
            "0.8744146341463415\n",
            "Iteration:  360\n",
            "[0 0 0 ... 7 2 2] [0 0 0 ... 7 2 2]\n",
            "0.875609756097561\n",
            "Iteration:  370\n",
            "[0 0 0 ... 7 2 2] [0 0 0 ... 7 2 2]\n",
            "0.8765365853658537\n",
            "Iteration:  380\n",
            "[0 0 0 ... 7 2 2] [0 0 0 ... 7 2 2]\n",
            "0.877390243902439\n",
            "Iteration:  390\n",
            "[0 0 0 ... 7 2 2] [0 0 0 ... 7 2 2]\n",
            "0.8781219512195122\n",
            "Iteration:  400\n",
            "[0 0 0 ... 7 2 2] [0 0 0 ... 7 2 2]\n",
            "0.8794390243902439\n",
            "Iteration:  410\n",
            "[0 0 0 ... 7 2 2] [0 0 0 ... 7 2 2]\n",
            "0.880609756097561\n",
            "Iteration:  420\n",
            "[0 0 0 ... 7 2 2] [0 0 0 ... 7 2 2]\n",
            "0.881780487804878\n",
            "Iteration:  430\n",
            "[0 0 0 ... 7 2 2] [0 0 0 ... 7 2 2]\n",
            "0.8827804878048781\n",
            "Iteration:  440\n",
            "[0 0 0 ... 7 2 2] [0 0 0 ... 7 2 2]\n",
            "0.8835365853658537\n",
            "Iteration:  450\n",
            "[0 0 0 ... 7 2 2] [0 0 0 ... 7 2 2]\n",
            "0.8841219512195122\n",
            "Iteration:  460\n",
            "[0 0 0 ... 7 2 2] [0 0 0 ... 7 2 2]\n",
            "0.8849024390243903\n",
            "Iteration:  470\n",
            "[0 0 0 ... 7 2 2] [0 0 0 ... 7 2 2]\n",
            "0.8858780487804878\n",
            "Iteration:  480\n",
            "[0 0 0 ... 7 2 2] [0 0 0 ... 7 2 2]\n",
            "0.8864634146341464\n",
            "Iteration:  490\n",
            "[0 0 0 ... 7 2 2] [0 0 0 ... 7 2 2]\n",
            "0.8871951219512195\n"
          ]
        }
      ]
    },
    {
      "cell_type": "code",
      "source": [
        "def make_predictions(X, W1, b1, W2, b2):\n",
        "    _, _, _, A2 = forward_prop(W1, b1, W2, b2, X)\n",
        "    predictions = get_predictions(A2)\n",
        "    return predictions\n",
        "\n",
        "def test_prediction(index, W1, b1, W2, b2):\n",
        "    current_image = X_train[:, index, None]\n",
        "    prediction = make_predictions(X_train[:, index, None], W1, b1, W2, b2)\n",
        "    label = Y_train[index]\n",
        "    print(\"Prediction: \", prediction)\n",
        "    print(\"Label: \", label)\n",
        "\n",
        "    current_image = current_image.reshape((28, 28)) * 255\n",
        "    plt.gray()\n",
        "    plt.imshow(current_image, interpolation='nearest')\n",
        "    plt.show()"
      ],
      "metadata": {
        "id": "2ApdoGYfUWrt"
      },
      "execution_count": null,
      "outputs": []
    },
    {
      "cell_type": "code",
      "source": [
        "test_prediction(10, W1, b1, W2, b2)\n",
        "test_prediction(100, W1, b1, W2, b2)\n",
        "test_prediction(28, W1, b1, W2, b2)\n",
        "test_prediction(9, W1, b1, W2, b2)"
      ],
      "metadata": {
        "colab": {
          "base_uri": "https://localhost:8080/",
          "height": 1000
        },
        "id": "_eeDGafhWoie",
        "outputId": "b78c12ac-fbca-4656-a7fd-a87c91819080"
      },
      "execution_count": null,
      "outputs": [
        {
          "output_type": "stream",
          "name": "stdout",
          "text": [
            "Prediction:  [7]\n",
            "Label:  7\n"
          ]
        },
        {
          "output_type": "display_data",
          "data": {
            "text/plain": [
              "<Figure size 640x480 with 1 Axes>"
            ],
            "image/png": "[encoded data removed]"
          },
          "metadata": {}
        },
        {
          "output_type": "stream",
          "name": "stdout",
          "text": [
            "Prediction:  [3]\n",
            "Label:  3\n"
          ]
        },
        {
          "output_type": "display_data",
          "data": {
            "text/plain": [
              "<Figure size 640x480 with 1 Axes>"
            ],
            "image/png": "[encoded data removed]"
          },
          "metadata": {}
        },
        {
          "output_type": "stream",
          "name": "stdout",
          "text": [
            "Prediction:  [7]\n",
            "Label:  7\n"
          ]
        },
        {
          "output_type": "display_data",
          "data": {
            "text/plain": [
              "<Figure size 640x480 with 1 Axes>"
            ],
            "image/png": "[encoded data removed]"
          },
          "metadata": {}
        },
        {
          "output_type": "stream",
          "name": "stdout",
          "text": [
            "Prediction:  [5]\n",
            "Label:  5\n"
          ]
        },
        {
          "output_type": "display_data",
          "data": {
            "text/plain": [
              "<Figure size 640x480 with 1 Axes>"
            ],
            "image/png": "[encoded data removed]"
          },
          "metadata": {}
        }
      ]
    },
    {
      "cell_type": "code",
      "source": [
        "dev_predictions = make_predictions(X_dev, W1, b1, W2, b2)\n",
        "get_accuracy(dev_predictions, Y_dev)"
      ],
      "metadata": {
        "colab": {
          "base_uri": "https://localhost:8080/"
        },
        "id": "KgooTzK0Wr_i",
        "outputId": "d701ab03-5ace-4c2e-ff25-62e7e53f96b2"
      },
      "execution_count": null,
      "outputs": [
        {
          "output_type": "stream",
          "name": "stdout",
          "text": [
            "[8 2 8 0 2 1 6 3 2 9 0 7 5 7 9 3 6 2 9 4 2 9 7 4 1 7 3 6 2 5 9 8 6 0 4 3 7\n",
            " 7 5 5 6 7 0 2 6 3 8 4 5 8 8 4 2 1 5 0 0 7 1 9 6 4 1 9 0 3 8 7 7 7 3 0 1 5\n",
            " 6 3 1 9 1 3 9 1 0 9 6 7 0 8 1 7 8 1 3 8 5 9 1 7 0 0 0 9 1 9 8 1 0 8 0 0 3\n",
            " 8 1 2 8 5 7 0 3 2 1 7 4 3 8 1 5 0 7 8 1 7 1 3 2 9 5 9 3 2 7 7 6 0 5 7 4 9\n",
            " 5 4 2 1 6 9 1 3 7 7 1 9 5 2 8 1 3 2 1 6 5 1 9 6 2 9 2 3 8 3 4 6 2 4 2 4 3\n",
            " 7 3 3 8 4 2 2 9 2 9 7 2 4 0 5 2 1 4 2 0 3 9 1 2 2 6 2 4 7 7 6 8 2 8 4 9 2\n",
            " 8 9 9 7 1 6 8 3 9 0 2 7 1 7 4 2 5 4 3 3 1 7 4 6 1 0 6 4 8 2 7 0 2 2 5 4 5\n",
            " 1 9 4 9 1 0 2 3 3 6 3 3 1 8 7 2 4 0 7 3 2 3 9 8 7 5 7 0 6 3 6 2 2 1 2 7 4\n",
            " 6 1 9 7 7 4 4 0 5 6 4 6 9 5 0 3 8 1 8 0 8 6 5 9 2 1 2 8 4 9 2 4 2 6 5 8 8\n",
            " 1 5 9 8 0 3 7 2 0 9 4 4 4 8 8 0 1 8 7 1 0 1 4 3 8 5 0 7 3 0 5 4 0 8 7 1 1\n",
            " 2 1 7 3 3 1 6 8 2 5 3 3 3 8 6 9 5 2 3 8 6 1 7 5 1 2 5 9 5 8 3 8 1 4 0 7 0\n",
            " 1 5 7 1 1 8 7 6 5 7 3 6 3 9 0 2 0 2 3 7 6 5 0 3 5 0 5 0 4 1 9 8 5 5 0 5 8\n",
            " 2 7 0 9 1 6 6 7 5 2 0 1 9 5 8 5 0 9 3 3 1 8 6 4 4 9 1 6 9 8 6 8 0 4 4 1 5\n",
            " 1 6 6 0 1 4 8 4 0 6 2 1 9 1 6 8 0 5 1 4 7 2 9 2 3 9 2 6 7 0 0 1 1 6 0 7 6\n",
            " 8 5 3 0 7 8 7 5 3 6 9 1 3 4 6 4 3 2 4 3 8 1 2 0 1 5 1 8 6 2 3 3 5 7 6 6 4\n",
            " 0 6 2 9 8 0 2 7 4 9 2 1 1 4 0 8 2 5 4 3 6 1 9 3 2 6 9 4 2 3 3 6 1 1 6 2 8\n",
            " 5 6 7 4 3 7 7 7 5 0 2 6 8 1 7 0 6 5 8 4 3 8 3 0 2 1 1 9 4 8 6 8 9 3 7 2 3\n",
            " 2 1 8 9 9 9 7 6 1 9 5 5 1 7 8 1 0 7 2 7 1 5 2 6 5 9 7 1 4 8 9 4 9 3 3 6 3\n",
            " 3 8 5 4 1 0 6 1 0 9 8 8 1 3 3 6 7 3 1 9 1 2 4 2 8 7 4 4 3 0 0 9 1 8 6 4 6\n",
            " 5 2 3 7 4 1 0 7 7 7 9 6 6 0 4 3 0 3 9 2 7 8 6 3 9 6 8 4 2 3 9 3 5 8 2 1 3\n",
            " 4 4 6 9 2 0 9 8 8 0 2 2 6 5 0 4 0 9 8 1 5 8 3 4 2 4 9 3 2 8 2 4 9 8 1 0 8\n",
            " 3 3 9 7 0 8 5 2 0 3 3 9 1 1 9 0 7 6 1 0 2 0 7 7 5 6 2 6 3 5 5 7 0 0 0 9 8\n",
            " 3 1 8 7 0 4 3 8 9 9 3 2 9 9 0 1 1 7 4 7 0 1 4 7 0 8 2 0 5 4 2 2 4 9 1 1 6\n",
            " 4 8 7 4 5 1 8 1 1 7 0 3 7 5 5 9 0 0 1 6 8 6 9 4 8 0 7 4 2 4 8 4 9 4 1 6 9\n",
            " 9 9 8 1 4 3 7 8 6 7 5 4 0 0 4 3 0 0 3 2 2 9 5 7 7 3 3 4 8 9 6 7 0 1 6 0 2\n",
            " 3 0 0 0 5 2 6 4 6 3 1 4 4 2 6 7 8 1 3 5 0 8 9 9 8 0 3 8 6 0 1 2 1 1 4 1 0\n",
            " 0 0 3 3 9 6 4 5 8 4 6 5 9 4 0 2 1 0 5 9 2 5 3 3 9 3 0 1 5 0 1 7 3 8 8 9 4\n",
            " 6] [8 3 8 0 2 1 6 3 6 9 0 7 5 7 4 3 6 2 9 4 2 9 5 4 1 7 3 6 2 5 7 8 6 0 4 3 7\n",
            " 7 5 5 6 7 0 2 5 3 8 4 5 8 8 4 2 7 5 0 0 7 1 9 6 4 1 4 0 3 8 7 7 7 3 0 1 5\n",
            " 6 5 1 9 1 5 9 1 0 9 6 7 0 8 1 7 3 1 3 2 5 9 1 7 0 0 0 9 1 9 8 1 0 8 6 0 3\n",
            " 2 1 2 8 5 7 0 3 2 1 7 4 3 8 1 5 0 7 8 1 7 1 3 2 9 5 0 3 7 7 7 6 0 5 7 4 9\n",
            " 5 4 2 1 6 9 1 3 7 7 1 9 5 2 8 1 3 2 1 6 5 1 9 6 2 9 2 3 8 3 4 6 2 4 3 4 3\n",
            " 7 3 3 8 4 2 2 9 2 9 7 2 4 0 5 2 1 4 2 0 3 8 1 2 2 6 2 4 9 7 6 8 2 8 9 9 2\n",
            " 8 9 9 7 1 6 8 3 9 0 2 7 1 7 4 2 5 4 1 3 1 7 4 6 2 0 2 9 8 2 7 8 2 2 5 4 5\n",
            " 1 9 4 9 1 7 2 3 3 6 3 3 1 8 7 2 4 0 7 3 2 3 9 8 7 5 7 0 6 3 6 2 2 1 2 7 4\n",
            " 5 1 9 7 7 4 4 0 5 6 4 6 9 5 0 3 8 1 8 0 8 8 5 3 2 5 2 8 4 9 2 4 2 6 5 8 8\n",
            " 1 5 9 8 9 3 7 2 0 9 4 4 4 8 9 0 1 5 7 1 0 1 4 3 8 6 0 7 3 0 5 4 0 8 7 1 1\n",
            " 2 1 7 3 3 1 6 2 2 5 3 3 3 8 6 9 5 2 5 8 6 1 7 5 1 8 6 9 5 0 3 8 1 4 0 7 0\n",
            " 1 5 7 1 1 8 7 6 5 7 3 6 3 9 0 2 0 2 3 7 6 5 0 2 5 0 5 0 4 1 9 8 2 5 0 5 0\n",
            " 2 2 0 9 1 6 6 7 5 2 0 1 9 6 8 5 0 9 3 3 1 8 6 4 4 9 1 6 9 8 6 8 0 4 4 1 5\n",
            " 1 6 6 0 1 4 8 4 0 6 2 1 7 1 6 8 0 3 1 4 7 2 9 2 3 9 2 6 7 0 0 1 1 6 0 7 6\n",
            " 8 5 5 0 7 8 7 5 3 6 9 2 3 4 6 4 3 2 4 3 8 1 2 0 1 5 1 8 2 2 3 3 5 7 6 6 4\n",
            " 0 6 2 9 8 0 2 7 4 9 2 1 1 4 0 8 2 5 4 3 6 1 9 3 2 6 9 4 2 3 3 6 1 1 6 2 8\n",
            " 5 6 7 8 3 7 7 7 5 0 2 6 8 1 7 0 6 6 8 4 3 2 3 0 2 1 1 9 4 8 6 5 9 5 7 2 3\n",
            " 2 1 8 9 9 9 7 6 1 9 5 9 8 7 8 1 0 7 2 7 1 5 2 6 8 9 7 1 4 8 9 4 9 3 3 6 3\n",
            " 3 8 5 4 1 0 6 1 0 9 8 8 1 3 3 2 7 3 1 9 1 2 4 2 8 7 4 4 3 0 0 5 2 8 6 4 6\n",
            " 5 2 3 7 5 1 0 9 7 7 9 6 6 0 4 3 0 1 9 2 7 8 6 3 9 6 8 7 2 3 9 3 5 8 2 1 3\n",
            " 4 4 6 9 2 0 9 8 8 0 2 2 6 5 0 4 5 9 8 1 5 8 5 4 2 9 9 3 7 8 2 4 4 8 1 0 8\n",
            " 3 3 4 7 0 8 5 2 0 3 3 9 1 1 9 0 7 6 1 0 2 0 7 7 8 6 2 0 3 5 5 7 0 0 0 9 8\n",
            " 3 1 8 7 0 4 3 8 9 9 8 2 9 2 0 1 1 7 4 7 0 1 4 7 0 8 2 0 5 4 2 2 4 9 1 1 6\n",
            " 7 5 7 4 5 1 8 7 1 7 0 3 7 5 5 9 0 0 1 6 8 6 2 4 3 3 7 4 3 4 8 4 9 4 1 6 9\n",
            " 9 9 8 1 4 8 7 8 6 7 5 9 0 0 6 3 0 0 3 2 2 9 5 7 7 3 3 4 8 9 6 7 0 1 6 6 2\n",
            " 3 0 0 0 9 8 6 4 3 3 1 4 4 2 6 7 8 1 3 5 0 2 9 9 1 0 3 8 6 0 1 2 1 1 4 1 0\n",
            " 6 2 3 3 4 6 4 5 8 4 6 5 9 4 0 2 1 0 8 9 2 5 3 3 9 3 0 1 6 0 1 7 3 8 8 2 4\n",
            " 6]\n"
          ]
        },
        {
          "output_type": "execute_result",
          "data": {
            "text/plain": [
              "0.904"
            ]
          },
          "metadata": {},
          "execution_count": 123
        }
      ]
    },
    {
      "cell_type": "code",
      "source": [],
      "metadata": {
        "id": "3SVpH6URW5sH"
      },
      "execution_count": null,
      "outputs": []
    }
  ]
}